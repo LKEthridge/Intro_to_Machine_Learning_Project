{
 "cells": [
  {
   "cell_type": "markdown",
   "metadata": {},
   "source": [
    "# Using Machine Learning to Suggest Current Plans for Megaline Legacy Plan Users\n",
    "## Project Overview & Objective\n",
    "A large number of users at Megaline are not taking advantage of current plan offerings that may better meet their needs.  Many of these users have been with the company for a long time and likely are not aware of the newer plans available--Smart and Ultra.  To increase customer satisfaction, this project will develop a model that analyzes usage of current plan users and suggests the most appropriate current plan offering (Smart or Ultra) for legacy users based on their monthly usage.  This model will be considered accurate when it achieves an accuracy of at least 0.75 using a test dataset and passes a sanity check to ensure reliability for a complex dataset.\n",
    "## Data Description"
   ]
  },
  {
   "cell_type": "code",
   "execution_count": 3,
   "metadata": {},
   "outputs": [],
   "source": [
    "import pandas as pd\n",
    "from sklearn.model_selection import train_test_split\n",
    "from sklearn.tree import DecisionTreeClassifier\n",
    "from sklearn.metrics import accuracy_score\n",
    "from sklearn.ensemble import RandomForestClassifier\n",
    "from sklearn.linear_model import LogisticRegression\n",
    "from sklearn.dummy import DummyClassifier"
   ]
  },
  {
   "cell_type": "code",
   "execution_count": 4,
   "metadata": {},
   "outputs": [
    {
     "data": {
      "text/html": [
       "<div>\n",
       "<style scoped>\n",
       "    .dataframe tbody tr th:only-of-type {\n",
       "        vertical-align: middle;\n",
       "    }\n",
       "\n",
       "    .dataframe tbody tr th {\n",
       "        vertical-align: top;\n",
       "    }\n",
       "\n",
       "    .dataframe thead th {\n",
       "        text-align: right;\n",
       "    }\n",
       "</style>\n",
       "<table border=\"1\" class=\"dataframe\">\n",
       "  <thead>\n",
       "    <tr style=\"text-align: right;\">\n",
       "      <th></th>\n",
       "      <th>calls</th>\n",
       "      <th>minutes</th>\n",
       "      <th>messages</th>\n",
       "      <th>mb_used</th>\n",
       "      <th>is_ultra</th>\n",
       "    </tr>\n",
       "  </thead>\n",
       "  <tbody>\n",
       "    <tr>\n",
       "      <th>0</th>\n",
       "      <td>40.0</td>\n",
       "      <td>311.90</td>\n",
       "      <td>83.0</td>\n",
       "      <td>19915.42</td>\n",
       "      <td>0</td>\n",
       "    </tr>\n",
       "    <tr>\n",
       "      <th>1</th>\n",
       "      <td>85.0</td>\n",
       "      <td>516.75</td>\n",
       "      <td>56.0</td>\n",
       "      <td>22696.96</td>\n",
       "      <td>0</td>\n",
       "    </tr>\n",
       "    <tr>\n",
       "      <th>2</th>\n",
       "      <td>77.0</td>\n",
       "      <td>467.66</td>\n",
       "      <td>86.0</td>\n",
       "      <td>21060.45</td>\n",
       "      <td>0</td>\n",
       "    </tr>\n",
       "    <tr>\n",
       "      <th>3</th>\n",
       "      <td>106.0</td>\n",
       "      <td>745.53</td>\n",
       "      <td>81.0</td>\n",
       "      <td>8437.39</td>\n",
       "      <td>1</td>\n",
       "    </tr>\n",
       "    <tr>\n",
       "      <th>4</th>\n",
       "      <td>66.0</td>\n",
       "      <td>418.74</td>\n",
       "      <td>1.0</td>\n",
       "      <td>14502.75</td>\n",
       "      <td>0</td>\n",
       "    </tr>\n",
       "    <tr>\n",
       "      <th>...</th>\n",
       "      <td>...</td>\n",
       "      <td>...</td>\n",
       "      <td>...</td>\n",
       "      <td>...</td>\n",
       "      <td>...</td>\n",
       "    </tr>\n",
       "    <tr>\n",
       "      <th>3209</th>\n",
       "      <td>122.0</td>\n",
       "      <td>910.98</td>\n",
       "      <td>20.0</td>\n",
       "      <td>35124.90</td>\n",
       "      <td>1</td>\n",
       "    </tr>\n",
       "    <tr>\n",
       "      <th>3210</th>\n",
       "      <td>25.0</td>\n",
       "      <td>190.36</td>\n",
       "      <td>0.0</td>\n",
       "      <td>3275.61</td>\n",
       "      <td>0</td>\n",
       "    </tr>\n",
       "    <tr>\n",
       "      <th>3211</th>\n",
       "      <td>97.0</td>\n",
       "      <td>634.44</td>\n",
       "      <td>70.0</td>\n",
       "      <td>13974.06</td>\n",
       "      <td>0</td>\n",
       "    </tr>\n",
       "    <tr>\n",
       "      <th>3212</th>\n",
       "      <td>64.0</td>\n",
       "      <td>462.32</td>\n",
       "      <td>90.0</td>\n",
       "      <td>31239.78</td>\n",
       "      <td>0</td>\n",
       "    </tr>\n",
       "    <tr>\n",
       "      <th>3213</th>\n",
       "      <td>80.0</td>\n",
       "      <td>566.09</td>\n",
       "      <td>6.0</td>\n",
       "      <td>29480.52</td>\n",
       "      <td>1</td>\n",
       "    </tr>\n",
       "  </tbody>\n",
       "</table>\n",
       "<p>3214 rows × 5 columns</p>\n",
       "</div>"
      ],
      "text/plain": [
       "      calls  minutes  messages   mb_used  is_ultra\n",
       "0      40.0   311.90      83.0  19915.42         0\n",
       "1      85.0   516.75      56.0  22696.96         0\n",
       "2      77.0   467.66      86.0  21060.45         0\n",
       "3     106.0   745.53      81.0   8437.39         1\n",
       "4      66.0   418.74       1.0  14502.75         0\n",
       "...     ...      ...       ...       ...       ...\n",
       "3209  122.0   910.98      20.0  35124.90         1\n",
       "3210   25.0   190.36       0.0   3275.61         0\n",
       "3211   97.0   634.44      70.0  13974.06         0\n",
       "3212   64.0   462.32      90.0  31239.78         0\n",
       "3213   80.0   566.09       6.0  29480.52         1\n",
       "\n",
       "[3214 rows x 5 columns]"
      ]
     },
     "execution_count": 4,
     "metadata": {},
     "output_type": "execute_result"
    }
   ],
   "source": [
    "user_behavior = pd.read_csv('/datasets/users_behavior.csv')\n",
    "user_behavior"
   ]
  },
  {
   "cell_type": "code",
   "execution_count": 5,
   "metadata": {},
   "outputs": [
    {
     "data": {
      "text/html": [
       "<div>\n",
       "<style scoped>\n",
       "    .dataframe tbody tr th:only-of-type {\n",
       "        vertical-align: middle;\n",
       "    }\n",
       "\n",
       "    .dataframe tbody tr th {\n",
       "        vertical-align: top;\n",
       "    }\n",
       "\n",
       "    .dataframe thead th {\n",
       "        text-align: right;\n",
       "    }\n",
       "</style>\n",
       "<table border=\"1\" class=\"dataframe\">\n",
       "  <thead>\n",
       "    <tr style=\"text-align: right;\">\n",
       "      <th></th>\n",
       "      <th>calls</th>\n",
       "      <th>minutes</th>\n",
       "      <th>messages</th>\n",
       "      <th>mb_used</th>\n",
       "      <th>is_ultra</th>\n",
       "    </tr>\n",
       "  </thead>\n",
       "  <tbody>\n",
       "    <tr>\n",
       "      <th>count</th>\n",
       "      <td>3214.000000</td>\n",
       "      <td>3214.000000</td>\n",
       "      <td>3214.000000</td>\n",
       "      <td>3214.000000</td>\n",
       "      <td>3214.000000</td>\n",
       "    </tr>\n",
       "    <tr>\n",
       "      <th>mean</th>\n",
       "      <td>63.038892</td>\n",
       "      <td>438.208787</td>\n",
       "      <td>38.281269</td>\n",
       "      <td>17207.673836</td>\n",
       "      <td>0.306472</td>\n",
       "    </tr>\n",
       "    <tr>\n",
       "      <th>std</th>\n",
       "      <td>33.236368</td>\n",
       "      <td>234.569872</td>\n",
       "      <td>36.148326</td>\n",
       "      <td>7570.968246</td>\n",
       "      <td>0.461100</td>\n",
       "    </tr>\n",
       "    <tr>\n",
       "      <th>min</th>\n",
       "      <td>0.000000</td>\n",
       "      <td>0.000000</td>\n",
       "      <td>0.000000</td>\n",
       "      <td>0.000000</td>\n",
       "      <td>0.000000</td>\n",
       "    </tr>\n",
       "    <tr>\n",
       "      <th>25%</th>\n",
       "      <td>40.000000</td>\n",
       "      <td>274.575000</td>\n",
       "      <td>9.000000</td>\n",
       "      <td>12491.902500</td>\n",
       "      <td>0.000000</td>\n",
       "    </tr>\n",
       "    <tr>\n",
       "      <th>50%</th>\n",
       "      <td>62.000000</td>\n",
       "      <td>430.600000</td>\n",
       "      <td>30.000000</td>\n",
       "      <td>16943.235000</td>\n",
       "      <td>0.000000</td>\n",
       "    </tr>\n",
       "    <tr>\n",
       "      <th>75%</th>\n",
       "      <td>82.000000</td>\n",
       "      <td>571.927500</td>\n",
       "      <td>57.000000</td>\n",
       "      <td>21424.700000</td>\n",
       "      <td>1.000000</td>\n",
       "    </tr>\n",
       "    <tr>\n",
       "      <th>max</th>\n",
       "      <td>244.000000</td>\n",
       "      <td>1632.060000</td>\n",
       "      <td>224.000000</td>\n",
       "      <td>49745.730000</td>\n",
       "      <td>1.000000</td>\n",
       "    </tr>\n",
       "  </tbody>\n",
       "</table>\n",
       "</div>"
      ],
      "text/plain": [
       "             calls      minutes     messages       mb_used     is_ultra\n",
       "count  3214.000000  3214.000000  3214.000000   3214.000000  3214.000000\n",
       "mean     63.038892   438.208787    38.281269  17207.673836     0.306472\n",
       "std      33.236368   234.569872    36.148326   7570.968246     0.461100\n",
       "min       0.000000     0.000000     0.000000      0.000000     0.000000\n",
       "25%      40.000000   274.575000     9.000000  12491.902500     0.000000\n",
       "50%      62.000000   430.600000    30.000000  16943.235000     0.000000\n",
       "75%      82.000000   571.927500    57.000000  21424.700000     1.000000\n",
       "max     244.000000  1632.060000   224.000000  49745.730000     1.000000"
      ]
     },
     "execution_count": 5,
     "metadata": {},
     "output_type": "execute_result"
    }
   ],
   "source": [
    "user_behavior.describe()"
   ]
  },
  {
   "cell_type": "code",
   "execution_count": 6,
   "metadata": {},
   "outputs": [
    {
     "name": "stdout",
     "output_type": "stream",
     "text": [
      "<class 'pandas.core.frame.DataFrame'>\n",
      "RangeIndex: 3214 entries, 0 to 3213\n",
      "Data columns (total 5 columns):\n",
      " #   Column    Non-Null Count  Dtype  \n",
      "---  ------    --------------  -----  \n",
      " 0   calls     3214 non-null   float64\n",
      " 1   minutes   3214 non-null   float64\n",
      " 2   messages  3214 non-null   float64\n",
      " 3   mb_used   3214 non-null   float64\n",
      " 4   is_ultra  3214 non-null   int64  \n",
      "dtypes: float64(4), int64(1)\n",
      "memory usage: 125.7 KB\n"
     ]
    }
   ],
   "source": [
    "user_behavior.info()"
   ]
  },
  {
   "cell_type": "markdown",
   "metadata": {},
   "source": [
    "Thanks to previous work with this dataset, the data is clean and we do not need to do any preprocessing.  However, I will make a few notes about the dataset before proceeding to split it into a training set, validation set, and test set.\n",
    "\n",
    "The dataset contains data on monthly number of calls, minutes used, messages sent, mb used, and plan type for over 3214 users.  All data is numerical.  Just under 1/3 of subscribers included in the dataset use the Ultra plan.  The average subscriber to one of the current plans places 63 calls per month totalling 438 minutes, sends 38 text messages, and uses 17k mb of data."
   ]
  },
  {
   "cell_type": "markdown",
   "metadata": {},
   "source": [
    "## Spliting the Data\n",
    "For further analysis, I will split 60% of the data into a training set to train the model, 20% into a validation set to assist in hyperparameter tuning, and the remaining 20% will serve as a test set to evaluate the model's performance."
   ]
  },
  {
   "cell_type": "code",
   "execution_count": 9,
   "metadata": {},
   "outputs": [
    {
     "name": "stdout",
     "output_type": "stream",
     "text": [
      "Training Set Size: 1928\n",
      "Validation Set Size: 643\n",
      "Test Set Size: 643\n"
     ]
    }
   ],
   "source": [
    "train_data, remaining_data = train_test_split(user_behavior, test_size=0.4, random_state=1)\n",
    "valid_data, test_data = train_test_split(remaining_data, test_size=0.5, random_state=1)\n",
    "print(f'Training Set Size: {train_data.shape[0]}')\n",
    "print(f'Validation Set Size: {valid_data.shape[0]}')\n",
    "print(f'Test Set Size: {test_data.shape[0]}')"
   ]
  },
  {
   "cell_type": "markdown",
   "metadata": {},
   "source": [
    "## Identifying the Best Model\n",
    "To determine the best model for this study, I will run three commonly used models with the training and validation sets and tune hyperparameters to determine the best fit.  The machine needs to suggest one of two plan options; therefore, the machine must perform binary classification at the highest degree of accuracy possible with the data set.\n",
    "\n",
    "Before creating models, I will define the variables these models will use."
   ]
  },
  {
   "cell_type": "code",
   "execution_count": 10,
   "metadata": {},
   "outputs": [
    {
     "name": "stdout",
     "output_type": "stream",
     "text": [
      "(1928, 4)\n",
      "(1928,)\n",
      "(643, 4)\n",
      "(643,)\n",
      "(643, 4)\n",
      "(643,)\n"
     ]
    }
   ],
   "source": [
    "#defining variables\n",
    "train_features = train_data.drop(['is_ultra', 'plan'], axis=1)\n",
    "train_target = train_data['plan']\n",
    "valid_features = valid_data.drop(['is_ultra', 'plan'], axis=1)\n",
    "valid_target = valid_data['plan']\n",
    "test_features = test_data.drop(['is_ultra', 'plan'], axis=1)\n",
    "test_target = test_data['plan']\n",
    "\n",
    "print(train_features.shape)\n",
    "print(train_target.shape)\n",
    "print(valid_features.shape)\n",
    "print(valid_target.shape)\n",
    "print(test_features.shape)\n",
    "print(test_target.shape)"
   ]
  },
  {
   "cell_type": "markdown",
   "metadata": {},
   "source": [
    "### Decision Tree Model\n",
    "Decision trees generally have low accuracy, but high processing speed.  I will begin with a decision tree model to get a baseline level of accuracy for the dataset."
   ]
  },
  {
   "cell_type": "code",
   "execution_count": 12,
   "metadata": {},
   "outputs": [
    {
     "name": "stdout",
     "output_type": "stream",
     "text": [
      "max_depth = 1 : 0.71850699844479\n",
      "max_depth = 2 : 0.7558320373250389\n",
      "max_depth = 3 : 0.7713841368584758\n",
      "max_depth = 4 : 0.7682737169517885\n",
      "max_depth = 5 : 0.7698289269051322\n"
     ]
    }
   ],
   "source": [
    "#creating decision tree model\n",
    "for depth in range (1, 6):\n",
    "    dt_model = DecisionTreeClassifier(max_depth=depth, random_state=1)\n",
    "    dt_model.fit(train_features, train_target)\n",
    "    train_predictions = dt_model.predict(train_features)\n",
    "    valid_predictions = dt_model.predict(valid_features)\n",
    "    print('max_depth =', depth, ': ', end='')\n",
    "    print(accuracy_score(valid_target, valid_predictions))"
   ]
  },
  {
   "cell_type": "markdown",
   "metadata": {},
   "source": [
    "The decision tree model becomes most accurate with a tree depth of 3.  However, the accuracy it achieves is only 77% and it may be underfitted.  Another model will most likely be able to improve upon that.\n",
    "\n",
    "### Random Forest Model"
   ]
  },
  {
   "cell_type": "code",
   "execution_count": 14,
   "metadata": {},
   "outputs": [
    {
     "name": "stdout",
     "output_type": "stream",
     "text": [
      "Accuracy of the best model on the validation set (n_estimators = 9): 0.7838258164852255\n"
     ]
    }
   ],
   "source": [
    "# creating random forest model\n",
    "best_score = 0\n",
    "best_est = 0\n",
    "for est in range(1, 11):\n",
    "    rf_model = RandomForestClassifier(random_state=1, n_estimators=est)\n",
    "    rf_model.fit(train_features, train_target)\n",
    "    score = rf_model.score(valid_features, valid_target)\n",
    "    if score > best_score:\n",
    "        best_score = score\n",
    "        best_est = est\n",
    "print(\"Accuracy of the best model on the validation set (n_estimators = {}): {}\".format(best_est, best_score))"
   ]
  },
  {
   "cell_type": "markdown",
   "metadata": {},
   "source": [
    "The Random Forest Model improves our accuracy rate but not by much.  With 9 estimators, the best model achieves 78% accuracy.  It is worth noting that increasing the number of estimators beyond 5 has very minimal impact on accuracy.  Given our data set is small enough to process quickly with 9 estimators, I will leave the hyperparameter in place, but the number of estimators can reasonably be dropped to 5 if the model is later applied to a larger dataset and processing speeds slow.  I will test one more model.\n",
    "\n",
    "### Logistic Regression Model"
   ]
  },
  {
   "cell_type": "code",
   "execution_count": 16,
   "metadata": {},
   "outputs": [
    {
     "name": "stdout",
     "output_type": "stream",
     "text": [
      "Accuracy of the logistic regression model on the training set: 0.7240663900414938\n",
      "Accuracy of the logistic regression model on the validation set: 0.6889580093312597\n"
     ]
    }
   ],
   "source": [
    "# creating logistic regression model\n",
    "lr_model = LogisticRegression(random_state=1, solver='liblinear')\n",
    "lr_model.fit(train_features, train_target)\n",
    "train_score = lr_model.score(train_features, train_target)\n",
    "valid_score = lr_model.score(valid_features, valid_target)\n",
    "print(\"Accuracy of the logistic regression model on the training set:\", train_score)\n",
    "print(\"Accuracy of the logistic regression model on the validation set:\", valid_score)"
   ]
  },
  {
   "cell_type": "markdown",
   "metadata": {},
   "source": [
    "Logistic Regression did not produce a higher level of accuracy.  It would seem plan choice is simply not all that aligned with actual user behavior.  Nonetheless, the threshold for accuracy is 75% with this project, so I will proceed with using the Random Forest Model with 9 estimators.\n",
    "\n",
    "## Applying the Random Forest Model to the Test Dataset\n",
    "It is time to run the model with the test dataset and see if it still achieves comparable accuracy."
   ]
  },
  {
   "cell_type": "code",
   "execution_count": 18,
   "metadata": {},
   "outputs": [
    {
     "name": "stdout",
     "output_type": "stream",
     "text": [
      "Accuracy of the Random Forest Model when applied to the test dataset: 0.7978227060653188\n"
     ]
    }
   ],
   "source": [
    "# running the rf model on the test dataset\n",
    "rf_model = RandomForestClassifier(random_state=1, n_estimators=9)\n",
    "rf_model.fit(train_features, train_target)\n",
    "test_predictions = rf_model.predict(test_features)\n",
    "accuracy = accuracy_score(test_target, test_predictions)\n",
    "print('Accuracy of the Random Forest Model when applied to the test dataset:', accuracy)"
   ]
  },
  {
   "cell_type": "markdown",
   "metadata": {},
   "source": [
    "When applied to the test dataset, the Random Forest Model achieved nearly 80% accuracy--30% better than random guessing!  This model seems to be a good starting place for this project and will provide a solid framework for Megaline to use to suggest current plans to legacy plan users.\n",
    "\n",
    "Before concluding, I will perform a quick sanity check with the test dataset to see how the other models compare.\n",
    "\n",
    "## Sanity Check\n",
    "\n",
    "I will compare my Random Forest model's accuracy against the Decision Tree model on the test dataset as the Decision Tree model achieved the second-highest level of accuracy during training and validation."
   ]
  },
  {
   "cell_type": "code",
   "execution_count": 19,
   "metadata": {},
   "outputs": [
    {
     "name": "stdout",
     "output_type": "stream",
     "text": [
      "Dummy Model Accuracy: 0.6936236391912908\n"
     ]
    }
   ],
   "source": [
    "# Creating a dummy model\n",
    "dummy_model = DummyClassifier(strategy='most_frequent', random_state=1)\n",
    "\n",
    "# Training the dummy model\n",
    "dummy_model.fit(train_features, train_target)\n",
    "\n",
    "# Making predictions using the dummy model\n",
    "test_predictions = dummy_model.predict(test_features)\n",
    "\n",
    "# Evaluating the dummy model\n",
    "print(\"Dummy Model Accuracy:\", accuracy_score(test_target, test_predictions))"
   ]
  },
  {
   "cell_type": "markdown",
   "metadata": {},
   "source": [
    "At 69% accuracy--slightly more than the accuracy achieved during training and validation--the Dummy Classifier confirms that the test dataset does tend to achieve higher accuracy rates when run through the trained models."
   ]
  },
  {
   "cell_type": "markdown",
   "metadata": {},
   "source": [
    "## Conclusion\n",
    "Machine learning has the potential to drive customer-centric service improvements within the telecommunications industry.  This project developed a machine learning model using Random Forest Classifier that recommends current plan offerings, Smart or Ultra, for legacy plan users of Megaline based on the monthly use patterns of existing current plan subscribers.  The model designed achieved 80% accuracy with the test data set, establishing a strong foundation for for Megaline to enhance customer satisfaction by aligning plan offerings with user behavior.  In future, the model can be further refined based on additional datasets that might improve its predictive accuracy and generate more conversions to current plans by Megaline legacy plan users."
   ]
  }
 ],
 "metadata": {
  "ExecuteTimeLog": [
   {
    "duration": 1240,
    "start_time": "2024-07-13T20:26:47.268Z"
   },
   {
    "duration": 7,
    "start_time": "2024-07-13T20:28:28.962Z"
   },
   {
    "duration": 32,
    "start_time": "2024-07-13T20:28:36.925Z"
   },
   {
    "duration": 27,
    "start_time": "2024-07-13T20:40:58.928Z"
   },
   {
    "duration": 14,
    "start_time": "2024-07-13T20:41:11.494Z"
   },
   {
    "duration": 33,
    "start_time": "2024-07-13T21:01:16.877Z"
   },
   {
    "duration": 15,
    "start_time": "2024-07-13T21:01:24.185Z"
   },
   {
    "duration": 1209,
    "start_time": "2024-07-15T01:29:17.639Z"
   },
   {
    "duration": 36,
    "start_time": "2024-07-15T01:29:18.852Z"
   },
   {
    "duration": 32,
    "start_time": "2024-07-15T01:29:18.912Z"
   },
   {
    "duration": 15,
    "start_time": "2024-07-15T01:29:18.947Z"
   },
   {
    "duration": 48,
    "start_time": "2024-07-15T01:29:18.965Z"
   },
   {
    "duration": 45,
    "start_time": "2024-07-15T01:36:07.392Z"
   },
   {
    "duration": 1258,
    "start_time": "2024-07-15T03:07:08.072Z"
   },
   {
    "duration": 42,
    "start_time": "2024-07-15T03:07:09.333Z"
   },
   {
    "duration": 60,
    "start_time": "2024-07-15T03:07:09.378Z"
   },
   {
    "duration": 16,
    "start_time": "2024-07-15T03:07:09.441Z"
   },
   {
    "duration": 11,
    "start_time": "2024-07-15T03:07:09.461Z"
   },
   {
    "duration": 38,
    "start_time": "2024-07-15T03:07:09.475Z"
   },
   {
    "duration": 2085,
    "start_time": "2024-07-15T03:07:27.671Z"
   },
   {
    "duration": 4,
    "start_time": "2024-07-15T03:09:29.110Z"
   },
   {
    "duration": 24,
    "start_time": "2024-07-15T03:09:30.633Z"
   },
   {
    "duration": 29,
    "start_time": "2024-07-15T03:09:33.321Z"
   },
   {
    "duration": 15,
    "start_time": "2024-07-15T03:09:36.870Z"
   },
   {
    "duration": 10,
    "start_time": "2024-07-15T03:09:39.553Z"
   },
   {
    "duration": 158,
    "start_time": "2024-07-15T03:09:42.396Z"
   },
   {
    "duration": 153,
    "start_time": "2024-07-15T03:10:34.213Z"
   },
   {
    "duration": 8,
    "start_time": "2024-07-15T03:11:40.246Z"
   },
   {
    "duration": 8,
    "start_time": "2024-07-15T03:12:58.552Z"
   },
   {
    "duration": 10,
    "start_time": "2024-07-15T03:14:06.654Z"
   },
   {
    "duration": 1168,
    "start_time": "2024-07-15T04:30:21.217Z"
   },
   {
    "duration": 38,
    "start_time": "2024-07-15T04:30:22.389Z"
   },
   {
    "duration": 30,
    "start_time": "2024-07-15T04:30:22.429Z"
   },
   {
    "duration": 41,
    "start_time": "2024-07-15T04:30:22.463Z"
   },
   {
    "duration": 11,
    "start_time": "2024-07-15T04:30:22.507Z"
   },
   {
    "duration": 13,
    "start_time": "2024-07-15T04:30:22.520Z"
   },
   {
    "duration": 7,
    "start_time": "2024-07-15T04:38:23.558Z"
   },
   {
    "duration": 9,
    "start_time": "2024-07-15T04:38:46.240Z"
   },
   {
    "duration": 7,
    "start_time": "2024-07-15T04:38:51.484Z"
   },
   {
    "duration": 7,
    "start_time": "2024-07-15T04:39:18.929Z"
   },
   {
    "duration": 5,
    "start_time": "2024-07-15T04:39:32.334Z"
   },
   {
    "duration": 11,
    "start_time": "2024-07-15T04:42:27.949Z"
   },
   {
    "duration": 411,
    "start_time": "2024-07-15T04:48:23.173Z"
   },
   {
    "duration": 62,
    "start_time": "2024-07-15T04:48:55.797Z"
   },
   {
    "duration": 1227,
    "start_time": "2024-07-15T21:17:33.875Z"
   },
   {
    "duration": 38,
    "start_time": "2024-07-15T21:17:35.106Z"
   },
   {
    "duration": 39,
    "start_time": "2024-07-15T21:17:35.146Z"
   },
   {
    "duration": 16,
    "start_time": "2024-07-15T21:17:35.188Z"
   },
   {
    "duration": 11,
    "start_time": "2024-07-15T21:17:35.233Z"
   },
   {
    "duration": 10,
    "start_time": "2024-07-15T21:17:35.249Z"
   },
   {
    "duration": 13,
    "start_time": "2024-07-15T21:17:35.262Z"
   },
   {
    "duration": 118,
    "start_time": "2024-07-15T21:17:35.279Z"
   },
   {
    "duration": 405,
    "start_time": "2024-07-15T21:18:49.299Z"
   },
   {
    "duration": 16,
    "start_time": "2024-07-15T21:19:05.758Z"
   },
   {
    "duration": 10,
    "start_time": "2024-07-15T21:20:40.548Z"
   },
   {
    "duration": 8,
    "start_time": "2024-07-15T21:25:54.730Z"
   },
   {
    "duration": 30,
    "start_time": "2024-07-15T21:26:03.521Z"
   },
   {
    "duration": 4,
    "start_time": "2024-07-15T21:26:11.118Z"
   },
   {
    "duration": 32,
    "start_time": "2024-07-15T21:26:15.003Z"
   },
   {
    "duration": 124,
    "start_time": "2024-07-15T21:26:19.960Z"
   },
   {
    "duration": 428,
    "start_time": "2024-07-15T21:26:31.732Z"
   },
   {
    "duration": 123,
    "start_time": "2024-07-15T21:26:40.580Z"
   },
   {
    "duration": 376,
    "start_time": "2024-07-15T21:26:48.631Z"
   },
   {
    "duration": 138,
    "start_time": "2024-07-15T21:26:54.116Z"
   },
   {
    "duration": 477,
    "start_time": "2024-07-15T21:33:08.359Z"
   },
   {
    "duration": 120,
    "start_time": "2024-07-15T21:33:16.710Z"
   },
   {
    "duration": 28,
    "start_time": "2024-07-15T21:46:35.605Z"
   },
   {
    "duration": 4,
    "start_time": "2024-07-15T21:46:41.572Z"
   },
   {
    "duration": 39,
    "start_time": "2024-07-15T21:46:47.920Z"
   },
   {
    "duration": 387,
    "start_time": "2024-07-15T21:49:56.117Z"
   },
   {
    "duration": 40,
    "start_time": "2024-07-15T21:58:39.233Z"
   },
   {
    "duration": 38,
    "start_time": "2024-07-15T21:59:53.649Z"
   },
   {
    "duration": 37,
    "start_time": "2024-07-15T22:00:20.932Z"
   },
   {
    "duration": 957,
    "start_time": "2024-07-15T22:04:28.270Z"
   },
   {
    "duration": 59,
    "start_time": "2024-07-15T22:04:34.101Z"
   },
   {
    "duration": 1255,
    "start_time": "2024-07-16T00:12:47.894Z"
   },
   {
    "duration": 45,
    "start_time": "2024-07-16T00:12:49.156Z"
   },
   {
    "duration": 30,
    "start_time": "2024-07-16T00:12:49.205Z"
   },
   {
    "duration": 30,
    "start_time": "2024-07-16T00:12:49.240Z"
   },
   {
    "duration": 10,
    "start_time": "2024-07-16T00:12:49.273Z"
   },
   {
    "duration": 11,
    "start_time": "2024-07-16T00:12:49.286Z"
   },
   {
    "duration": 13,
    "start_time": "2024-07-16T00:12:49.300Z"
   },
   {
    "duration": 104,
    "start_time": "2024-07-16T00:12:49.316Z"
   },
   {
    "duration": 386,
    "start_time": "2024-07-16T00:12:49.423Z"
   },
   {
    "duration": 27,
    "start_time": "2024-07-16T00:12:49.814Z"
   },
   {
    "duration": 418,
    "start_time": "2024-07-16T00:12:49.844Z"
   },
   {
    "duration": 0,
    "start_time": "2024-07-16T00:12:50.269Z"
   },
   {
    "duration": 4,
    "start_time": "2024-07-16T00:14:22.793Z"
   },
   {
    "duration": 40,
    "start_time": "2024-07-16T00:14:27.862Z"
   },
   {
    "duration": 4,
    "start_time": "2024-07-16T00:14:46.516Z"
   },
   {
    "duration": 23,
    "start_time": "2024-07-16T00:14:48.334Z"
   },
   {
    "duration": 30,
    "start_time": "2024-07-16T00:14:50.660Z"
   },
   {
    "duration": 14,
    "start_time": "2024-07-16T00:14:53.101Z"
   },
   {
    "duration": 8,
    "start_time": "2024-07-16T00:14:56.834Z"
   },
   {
    "duration": 10,
    "start_time": "2024-07-16T00:14:59.754Z"
   },
   {
    "duration": 11,
    "start_time": "2024-07-16T00:15:03.045Z"
   },
   {
    "duration": 64,
    "start_time": "2024-07-16T00:15:06.207Z"
   },
   {
    "duration": 374,
    "start_time": "2024-07-16T00:15:10.993Z"
   },
   {
    "duration": 26,
    "start_time": "2024-07-16T00:15:15.621Z"
   },
   {
    "duration": 36,
    "start_time": "2024-07-16T00:15:20.285Z"
   },
   {
    "duration": 66,
    "start_time": "2024-07-16T00:18:58.645Z"
   },
   {
    "duration": 374,
    "start_time": "2024-07-16T00:19:15.067Z"
   },
   {
    "duration": 30,
    "start_time": "2024-07-16T00:19:31.340Z"
   },
   {
    "duration": 39,
    "start_time": "2024-07-16T00:19:46.856Z"
   },
   {
    "duration": 5,
    "start_time": "2024-07-16T00:22:27.022Z"
   },
   {
    "duration": 248,
    "start_time": "2024-07-16T00:22:32.555Z"
   },
   {
    "duration": 374,
    "start_time": "2024-07-16T00:22:48.987Z"
   },
   {
    "duration": 68,
    "start_time": "2024-07-16T00:22:53.871Z"
   },
   {
    "duration": 379,
    "start_time": "2024-07-16T00:23:11.448Z"
   },
   {
    "duration": 66,
    "start_time": "2024-07-16T00:23:49.037Z"
   },
   {
    "duration": 8,
    "start_time": "2024-07-16T00:25:15.303Z"
   },
   {
    "duration": 17,
    "start_time": "2024-07-16T00:25:21.755Z"
   },
   {
    "duration": 18,
    "start_time": "2024-07-16T00:26:13.312Z"
   },
   {
    "duration": 18,
    "start_time": "2024-07-16T00:26:17.590Z"
   },
   {
    "duration": 16,
    "start_time": "2024-07-16T00:26:37.669Z"
   },
   {
    "duration": 9,
    "start_time": "2024-07-16T00:26:43.652Z"
   },
   {
    "duration": 182,
    "start_time": "2024-07-16T00:27:22.526Z"
   },
   {
    "duration": 16,
    "start_time": "2024-07-16T00:27:52.057Z"
   },
   {
    "duration": 1246,
    "start_time": "2024-07-16T01:12:34.078Z"
   },
   {
    "duration": 40,
    "start_time": "2024-07-16T01:12:35.329Z"
   },
   {
    "duration": 30,
    "start_time": "2024-07-16T01:12:35.372Z"
   },
   {
    "duration": 29,
    "start_time": "2024-07-16T01:12:35.405Z"
   },
   {
    "duration": 9,
    "start_time": "2024-07-16T01:12:35.438Z"
   },
   {
    "duration": 10,
    "start_time": "2024-07-16T01:12:35.450Z"
   },
   {
    "duration": 12,
    "start_time": "2024-07-16T01:12:35.463Z"
   },
   {
    "duration": 102,
    "start_time": "2024-07-16T01:12:35.478Z"
   },
   {
    "duration": 445,
    "start_time": "2024-07-16T01:12:35.583Z"
   },
   {
    "duration": 0,
    "start_time": "2024-07-16T01:12:36.031Z"
   },
   {
    "duration": 0,
    "start_time": "2024-07-16T01:12:36.032Z"
   },
   {
    "duration": 0,
    "start_time": "2024-07-16T01:12:36.035Z"
   },
   {
    "duration": 1238,
    "start_time": "2024-07-16T02:19:58.942Z"
   },
   {
    "duration": 37,
    "start_time": "2024-07-16T02:20:00.183Z"
   },
   {
    "duration": 32,
    "start_time": "2024-07-16T02:20:00.224Z"
   },
   {
    "duration": 16,
    "start_time": "2024-07-16T02:20:00.261Z"
   },
   {
    "duration": 12,
    "start_time": "2024-07-16T02:20:00.313Z"
   },
   {
    "duration": 12,
    "start_time": "2024-07-16T02:20:00.328Z"
   },
   {
    "duration": 13,
    "start_time": "2024-07-16T02:20:00.346Z"
   },
   {
    "duration": 103,
    "start_time": "2024-07-16T02:20:00.363Z"
   },
   {
    "duration": 430,
    "start_time": "2024-07-16T02:20:00.469Z"
   },
   {
    "duration": 0,
    "start_time": "2024-07-16T02:20:00.902Z"
   },
   {
    "duration": 0,
    "start_time": "2024-07-16T02:20:00.904Z"
   },
   {
    "duration": 0,
    "start_time": "2024-07-16T02:20:00.914Z"
   },
   {
    "duration": 383,
    "start_time": "2024-07-16T02:20:18.496Z"
   },
   {
    "duration": 35,
    "start_time": "2024-07-16T12:08:15.136Z"
   },
   {
    "duration": 1578,
    "start_time": "2024-07-16T12:09:22.856Z"
   },
   {
    "duration": 55,
    "start_time": "2024-07-16T12:09:24.442Z"
   },
   {
    "duration": 49,
    "start_time": "2024-07-16T12:09:24.501Z"
   },
   {
    "duration": 33,
    "start_time": "2024-07-16T12:09:24.556Z"
   },
   {
    "duration": 18,
    "start_time": "2024-07-16T12:09:24.592Z"
   },
   {
    "duration": 24,
    "start_time": "2024-07-16T12:09:24.615Z"
   },
   {
    "duration": 20,
    "start_time": "2024-07-16T12:09:24.643Z"
   },
   {
    "duration": 109,
    "start_time": "2024-07-16T12:09:24.666Z"
   },
   {
    "duration": 544,
    "start_time": "2024-07-16T12:09:24.779Z"
   },
   {
    "duration": 33,
    "start_time": "2024-07-16T12:09:25.349Z"
   },
   {
    "duration": 84,
    "start_time": "2024-07-16T12:09:25.947Z"
   },
   {
    "duration": 22,
    "start_time": "2024-07-16T12:10:03.180Z"
   },
   {
    "duration": 778,
    "start_time": "2025-01-18T06:48:53.407Z"
   },
   {
    "duration": 25,
    "start_time": "2025-01-18T06:48:54.187Z"
   },
   {
    "duration": 19,
    "start_time": "2025-01-18T06:48:54.213Z"
   },
   {
    "duration": 8,
    "start_time": "2025-01-18T06:48:54.234Z"
   },
   {
    "duration": 6,
    "start_time": "2025-01-18T06:48:54.245Z"
   },
   {
    "duration": 6,
    "start_time": "2025-01-18T06:48:54.252Z"
   },
   {
    "duration": 6,
    "start_time": "2025-01-18T06:48:54.260Z"
   },
   {
    "duration": 69,
    "start_time": "2025-01-18T06:48:54.269Z"
   },
   {
    "duration": 223,
    "start_time": "2025-01-18T06:48:54.340Z"
   },
   {
    "duration": 14,
    "start_time": "2025-01-18T06:48:54.565Z"
   },
   {
    "duration": 53,
    "start_time": "2025-01-18T06:48:54.581Z"
   },
   {
    "duration": 9,
    "start_time": "2025-01-18T06:48:54.637Z"
   },
   {
    "duration": 156,
    "start_time": "2025-01-20T20:03:35.620Z"
   },
   {
    "duration": 756,
    "start_time": "2025-01-20T20:03:49.485Z"
   },
   {
    "duration": 3,
    "start_time": "2025-01-20T20:03:54.631Z"
   },
   {
    "duration": 28,
    "start_time": "2025-01-20T20:03:54.636Z"
   },
   {
    "duration": 17,
    "start_time": "2025-01-20T20:03:54.665Z"
   },
   {
    "duration": 8,
    "start_time": "2025-01-20T20:03:54.683Z"
   },
   {
    "duration": 5,
    "start_time": "2025-01-20T20:03:54.694Z"
   },
   {
    "duration": 77,
    "start_time": "2025-01-20T20:03:54.700Z"
   },
   {
    "duration": 0,
    "start_time": "2025-01-20T20:03:54.779Z"
   },
   {
    "duration": 0,
    "start_time": "2025-01-20T20:03:54.781Z"
   },
   {
    "duration": 0,
    "start_time": "2025-01-20T20:03:54.782Z"
   },
   {
    "duration": 0,
    "start_time": "2025-01-20T20:03:54.784Z"
   },
   {
    "duration": 0,
    "start_time": "2025-01-20T20:03:54.785Z"
   },
   {
    "duration": 0,
    "start_time": "2025-01-20T20:03:54.786Z"
   },
   {
    "duration": 7,
    "start_time": "2025-01-20T20:05:11.044Z"
   },
   {
    "duration": 7,
    "start_time": "2025-01-20T20:05:15.275Z"
   },
   {
    "duration": 15,
    "start_time": "2025-01-20T20:05:18.248Z"
   },
   {
    "duration": 37,
    "start_time": "2025-01-20T20:05:29.745Z"
   },
   {
    "duration": 16,
    "start_time": "2025-01-20T20:05:35.103Z"
   },
   {
    "duration": 214,
    "start_time": "2025-01-20T20:05:45.235Z"
   },
   {
    "duration": 15,
    "start_time": "2025-01-20T20:05:50.615Z"
   },
   {
    "duration": 15,
    "start_time": "2025-01-20T20:06:01.023Z"
   },
   {
    "duration": 14,
    "start_time": "2025-01-20T20:06:16.847Z"
   },
   {
    "duration": 42,
    "start_time": "2025-01-20T20:06:26.255Z"
   },
   {
    "duration": 6,
    "start_time": "2025-01-20T20:06:40.800Z"
   }
  ],
  "kernelspec": {
   "display_name": "Python 3 (ipykernel)",
   "language": "python",
   "name": "python3"
  },
  "language_info": {
   "codemirror_mode": {
    "name": "ipython",
    "version": 3
   },
   "file_extension": ".py",
   "mimetype": "text/x-python",
   "name": "python",
   "nbconvert_exporter": "python",
   "pygments_lexer": "ipython3",
   "version": "3.9.19"
  },
  "toc": {
   "base_numbering": 1,
   "nav_menu": {},
   "number_sections": true,
   "sideBar": true,
   "skip_h1_title": true,
   "title_cell": "Table of Contents",
   "title_sidebar": "Contents",
   "toc_cell": false,
   "toc_position": {},
   "toc_section_display": true,
   "toc_window_display": false
  }
 },
 "nbformat": 4,
 "nbformat_minor": 2
}
